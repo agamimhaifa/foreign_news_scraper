{
 "cells": [
  {
   "cell_type": "code",
   "execution_count": 5,
   "metadata": {},
   "outputs": [],
   "source": [
    "from telegram.ext import Updater, MessageHandler, filters\n"
   ]
  },
  {
   "cell_type": "code",
   "execution_count": null,
   "metadata": {},
   "outputs": [],
   "source": [
    "def message_handler(update, context):\n",
    "    message = update.message\n",
    "    chat_id = message.chat_id\n",
    "    text = message.text\n",
    "\n",
    "    # Do something with the message, e.g., print it\n",
    "    print(f\"Received message in chat {chat_id}: {text}\")\n",
    "\n"
   ]
  },
  {
   "cell_type": "code",
   "execution_count": null,
   "metadata": {},
   "outputs": [],
   "source": [
    "# Replace 'YOUR_BOT_TOKEN' with your bot's API token\n",
    "bot_token = 'YOUR_BOT_TOKEN'\n",
    "\n",
    "updater = Updater(token=bot_token, use_context=True)\n",
    "dp = updater.dispatcher\n",
    "\n",
    "# Replace 'your_channel_name' with the actual name of your channel\n",
    "dp.add_handler(MessageHandler(filters.chat(username='@your_channel_name'), message_handler))\n",
    "\n",
    "updater.start_polling()\n",
    "updater.idle()"
   ]
  }
 ],
 "metadata": {
  "kernelspec": {
   "display_name": "venv",
   "language": "python",
   "name": "python3"
  },
  "language_info": {
   "codemirror_mode": {
    "name": "ipython",
    "version": 3
   },
   "file_extension": ".py",
   "mimetype": "text/x-python",
   "name": "python",
   "nbconvert_exporter": "python",
   "pygments_lexer": "ipython3",
   "version": "3.11.6"
  }
 },
 "nbformat": 4,
 "nbformat_minor": 2
}
